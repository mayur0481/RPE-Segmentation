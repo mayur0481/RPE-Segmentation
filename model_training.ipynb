{
 "cells": [
  {
   "cell_type": "code",
   "execution_count": 1,
   "id": "6b5c1638",
   "metadata": {},
   "outputs": [],
   "source": [
    "import numpy as np\n",
    "from _GenerateModels import Unet\n",
    "from DataGeneratorNew import retina_data1, retina_test\n",
    "import tensorflow as tf\n",
    "from tensorflow import keras\n",
    "import matplotlib.pyplot as plt\n",
    "from _CustomLayers import CustomMeanIoU\n",
    "import cv2\n",
    "#from _ERFNETMODEL import ERFNET"
   ]
  },
  {
   "cell_type": "code",
   "execution_count": 2,
   "id": "4e609c84",
   "metadata": {},
   "outputs": [],
   "source": [
    "x_path = 'train_set/images/*.jpg'\n",
    "y_path = 'train_set/refined_mask/*.png'\n",
    "x_path_val = 'val_set/images/*.jpg'\n",
    "y_path_val = 'val_set/refined_mask/*.png'\n",
    "x_test_path = 'test_set/images/*.jpg'\n",
    "y_test_path = 'test_set/refined_mask/*.png'"
   ]
  },
  {
   "cell_type": "code",
   "execution_count": 3,
   "id": "433b09d6",
   "metadata": {},
   "outputs": [],
   "source": [
    "batch_size = 20\n",
    "shape = [256, 256]\n",
    "train_data, val_data = retina_data1(x_path, y_path, x_path_val, y_path_val, center = False, augment = False, shape = shape, batch_size = batch_size)\n",
    "test_data = retina_test(x_test_path, y_test_path, center = False)"
   ]
  },
  {
   "cell_type": "code",
   "execution_count": 4,
   "id": "dd0ff93d",
   "metadata": {},
   "outputs": [],
   "source": [
    "model = Unet.build_model(shape[0], shape[1], 1)"
   ]
  },
  {
   "cell_type": "code",
   "execution_count": 5,
   "id": "8b7ff03c",
   "metadata": {},
   "outputs": [],
   "source": [
    "model.compile(optimizer = keras.optimizers.Adam(), loss = keras.losses.BinaryCrossentropy(), \n",
    "              metrics = [CustomMeanIoU(2)])\n",
    "\n",
    "lrs = keras.callbacks.ReduceLROnPlateau(factor = 0.1, patience = 3)\n",
    "es = keras.callbacks.EarlyStopping(patience = 10, restore_best_weights = True)"
   ]
  },
  {
   "cell_type": "code",
   "execution_count": 6,
   "id": "7b709773",
   "metadata": {},
   "outputs": [],
   "source": [
    "train_steps = 350//batch_size\n",
    "val_steps = 100//batch_size"
   ]
  },
  {
   "cell_type": "code",
   "execution_count": 7,
   "id": "5911c825",
   "metadata": {},
   "outputs": [
    {
     "name": "stdout",
     "output_type": "stream",
     "text": [
      "Epoch 1/100\n",
      "17/17 [==============================] - 27s 526ms/step - loss: 0.2426 - custom_mean_io_u: 0.4912 - val_loss: 0.1785 - val_custom_mean_io_u: 0.4967 - lr: 0.0010\n",
      "Epoch 2/100\n",
      "17/17 [==============================] - 12s 467ms/step - loss: 0.0902 - custom_mean_io_u: 0.4967 - val_loss: 0.0761 - val_custom_mean_io_u: 0.4967 - lr: 0.0010\n",
      "Epoch 3/100\n",
      "17/17 [==============================] - 8s 456ms/step - loss: 0.0308 - custom_mean_io_u: 0.4967 - val_loss: 0.0373 - val_custom_mean_io_u: 0.4967 - lr: 0.0010\n",
      "Epoch 4/100\n",
      "17/17 [==============================] - 8s 450ms/step - loss: 0.0229 - custom_mean_io_u: 0.4968 - val_loss: 0.0294 - val_custom_mean_io_u: 0.4967 - lr: 0.0010\n",
      "Epoch 5/100\n",
      "17/17 [==============================] - 8s 448ms/step - loss: 0.0203 - custom_mean_io_u: 0.4967 - val_loss: 0.0290 - val_custom_mean_io_u: 0.4967 - lr: 0.0010\n",
      "Epoch 6/100\n",
      "17/17 [==============================] - 8s 452ms/step - loss: 0.0178 - custom_mean_io_u: 0.4967 - val_loss: 0.0235 - val_custom_mean_io_u: 0.4967 - lr: 0.0010\n",
      "Epoch 7/100\n",
      "17/17 [==============================] - 8s 445ms/step - loss: 0.0156 - custom_mean_io_u: 0.4968 - val_loss: 0.0183 - val_custom_mean_io_u: 0.4967 - lr: 0.0010\n",
      "Epoch 8/100\n",
      "17/17 [==============================] - 8s 460ms/step - loss: 0.0136 - custom_mean_io_u: 0.4973 - val_loss: 0.0141 - val_custom_mean_io_u: 0.4976 - lr: 0.0010\n",
      "Epoch 9/100\n",
      "17/17 [==============================] - 8s 454ms/step - loss: 0.0123 - custom_mean_io_u: 0.5040 - val_loss: 0.0141 - val_custom_mean_io_u: 0.5299 - lr: 0.0010\n",
      "Epoch 10/100\n",
      "17/17 [==============================] - 8s 458ms/step - loss: 0.0119 - custom_mean_io_u: 0.5368 - val_loss: 0.0125 - val_custom_mean_io_u: 0.6581 - lr: 0.0010\n",
      "Epoch 11/100\n",
      "17/17 [==============================] - 8s 448ms/step - loss: 0.0112 - custom_mean_io_u: 0.6040 - val_loss: 0.0114 - val_custom_mean_io_u: 0.7336 - lr: 0.0010\n",
      "Epoch 12/100\n",
      "17/17 [==============================] - 8s 451ms/step - loss: 0.0107 - custom_mean_io_u: 0.6713 - val_loss: 0.0115 - val_custom_mean_io_u: 0.7484 - lr: 0.0010\n",
      "Epoch 13/100\n",
      "17/17 [==============================] - 8s 450ms/step - loss: 0.0103 - custom_mean_io_u: 0.7069 - val_loss: 0.0109 - val_custom_mean_io_u: 0.7546 - lr: 0.0010\n",
      "Epoch 14/100\n",
      "17/17 [==============================] - 8s 455ms/step - loss: 0.0101 - custom_mean_io_u: 0.7178 - val_loss: 0.0103 - val_custom_mean_io_u: 0.7601 - lr: 0.0010\n",
      "Epoch 15/100\n",
      "17/17 [==============================] - 8s 450ms/step - loss: 0.0099 - custom_mean_io_u: 0.7250 - val_loss: 0.0104 - val_custom_mean_io_u: 0.7583 - lr: 0.0010\n",
      "Epoch 16/100\n",
      "17/17 [==============================] - 8s 449ms/step - loss: 0.0098 - custom_mean_io_u: 0.7329 - val_loss: 0.0104 - val_custom_mean_io_u: 0.7572 - lr: 0.0010\n",
      "Epoch 17/100\n",
      "17/17 [==============================] - 8s 464ms/step - loss: 0.0097 - custom_mean_io_u: 0.7334 - val_loss: 0.0100 - val_custom_mean_io_u: 0.7650 - lr: 0.0010\n",
      "Epoch 18/100\n",
      "17/17 [==============================] - 8s 444ms/step - loss: 0.0095 - custom_mean_io_u: 0.7357 - val_loss: 0.0097 - val_custom_mean_io_u: 0.7672 - lr: 0.0010\n",
      "Epoch 19/100\n",
      "17/17 [==============================] - 8s 460ms/step - loss: 0.0095 - custom_mean_io_u: 0.7412 - val_loss: 0.0094 - val_custom_mean_io_u: 0.7705 - lr: 0.0010\n",
      "Epoch 20/100\n",
      "17/17 [==============================] - 8s 463ms/step - loss: 0.0093 - custom_mean_io_u: 0.7439 - val_loss: 0.0095 - val_custom_mean_io_u: 0.7727 - lr: 0.0010\n",
      "Epoch 21/100\n",
      "17/17 [==============================] - 8s 452ms/step - loss: 0.0092 - custom_mean_io_u: 0.7484 - val_loss: 0.0093 - val_custom_mean_io_u: 0.7733 - lr: 0.0010\n",
      "Epoch 22/100\n",
      "17/17 [==============================] - 8s 455ms/step - loss: 0.0091 - custom_mean_io_u: 0.7495 - val_loss: 0.0098 - val_custom_mean_io_u: 0.7663 - lr: 0.0010\n",
      "Epoch 23/100\n",
      "17/17 [==============================] - 8s 453ms/step - loss: 0.0093 - custom_mean_io_u: 0.7502 - val_loss: 0.0091 - val_custom_mean_io_u: 0.7734 - lr: 1.0000e-04\n",
      "Epoch 24/100\n",
      "17/17 [==============================] - 8s 451ms/step - loss: 0.0091 - custom_mean_io_u: 0.7488 - val_loss: 0.0092 - val_custom_mean_io_u: 0.7744 - lr: 1.0000e-04\n",
      "Epoch 25/100\n",
      "17/17 [==============================] - 8s 456ms/step - loss: 0.0091 - custom_mean_io_u: 0.7516 - val_loss: 0.0092 - val_custom_mean_io_u: 0.7753 - lr: 1.0000e-04\n",
      "Epoch 26/100\n",
      "17/17 [==============================] - 8s 456ms/step - loss: 0.0090 - custom_mean_io_u: 0.7555 - val_loss: 0.0092 - val_custom_mean_io_u: 0.7748 - lr: 1.0000e-04\n",
      "Epoch 27/100\n",
      "17/17 [==============================] - 8s 461ms/step - loss: 0.0089 - custom_mean_io_u: 0.7545 - val_loss: 0.0092 - val_custom_mean_io_u: 0.7753 - lr: 1.0000e-05\n",
      "Epoch 28/100\n",
      "17/17 [==============================] - 8s 450ms/step - loss: 0.0091 - custom_mean_io_u: 0.7507 - val_loss: 0.0092 - val_custom_mean_io_u: 0.7755 - lr: 1.0000e-05\n",
      "Epoch 29/100\n",
      "17/17 [==============================] - 8s 458ms/step - loss: 0.0089 - custom_mean_io_u: 0.7564 - val_loss: 0.0092 - val_custom_mean_io_u: 0.7754 - lr: 1.0000e-05\n",
      "Epoch 30/100\n",
      "17/17 [==============================] - 8s 453ms/step - loss: 0.0090 - custom_mean_io_u: 0.7521 - val_loss: 0.0092 - val_custom_mean_io_u: 0.7754 - lr: 1.0000e-06\n",
      "Epoch 31/100\n",
      "17/17 [==============================] - 8s 449ms/step - loss: 0.0089 - custom_mean_io_u: 0.7573 - val_loss: 0.0092 - val_custom_mean_io_u: 0.7755 - lr: 1.0000e-06\n",
      "Epoch 32/100\n",
      "17/17 [==============================] - 8s 458ms/step - loss: 0.0091 - custom_mean_io_u: 0.7515 - val_loss: 0.0092 - val_custom_mean_io_u: 0.7755 - lr: 1.0000e-06\n",
      "Epoch 33/100\n",
      "17/17 [==============================] - 8s 453ms/step - loss: 0.0090 - custom_mean_io_u: 0.7537 - val_loss: 0.0092 - val_custom_mean_io_u: 0.7755 - lr: 1.0000e-07\n"
     ]
    }
   ],
   "source": [
    "history = model.fit(train_data, validation_data = val_data, epochs = 100, steps_per_epoch = train_steps, \n",
    "                    validation_steps = val_steps, callbacks = [lrs, es])"
   ]
  },
  {
   "cell_type": "code",
   "execution_count": 37,
   "id": "28aae211",
   "metadata": {},
   "outputs": [],
   "source": [
    "batch = 0\n",
    "for img, lab in val_data.take(7):\n",
    "    batch += 1\n",
    "    im_no = 0\n",
    "    preds = model.predict(img)\n",
    "    preds = tf.where(preds >= 0.5, 255, 0)\n",
    "    img = tf.cast(img * 255, tf.int32)\n",
    "    \n",
    "    for i in range(preds.shape[0]):\n",
    "        im_no += 1\n",
    "        save_path = 'results/run1_unet_256x256/' + f'{batch}_{im_no}.png'\n",
    "        comb_img = cv2.addWeighted(img[i].numpy(), 1, preds[i].numpy(), 0.8, 1)\n",
    "        cv2.imwrite(save_path, comb_img)\n",
    "        #plt.imshow(comb_img, 'gray')\n",
    "        #plt.figure()\n",
    "        "
   ]
  },
  {
   "cell_type": "code",
   "execution_count": null,
   "id": "e759dd17",
   "metadata": {},
   "outputs": [],
   "source": []
  },
  {
   "cell_type": "code",
   "execution_count": 8,
   "id": "29c28188",
   "metadata": {},
   "outputs": [],
   "source": [
    "new_train_data, new_val_data = retina_data1(x_path, y_path, x_path_val, y_path_val, center = False, augment = False, shape = [1024, 1024], batch_size = batch_size)\n",
    "new_test_data = retina_test(x_test_path, y_test_path, center = False, shape = [1024, 1024])"
   ]
  },
  {
   "cell_type": "code",
   "execution_count": 9,
   "id": "38231376",
   "metadata": {},
   "outputs": [],
   "source": [
    "cmi_train = CustomMeanIoU(2)"
   ]
  },
  {
   "cell_type": "code",
   "execution_count": 11,
   "id": "cf066f50",
   "metadata": {},
   "outputs": [],
   "source": [
    "for im, labs in new_train_data.take(train_steps):\n",
    "    \n",
    "    n_im = tf.image.resize(im, [256, 256], antialias = True)\n",
    "    n_labs = tf.image.resize(labs, [256, 256], method = 'nearest')\n",
    "    \n",
    "    preds = model.predict(n_im)\n",
    "    \n",
    "    preds = tf.image.resize(preds, [1024, 1024], method = 'nearest')\n",
    "    \n",
    "    cmi_train.update_state(labs, preds)\n",
    "    \n",
    "    "
   ]
  },
  {
   "cell_type": "code",
   "execution_count": 13,
   "id": "82be46a1",
   "metadata": {},
   "outputs": [],
   "source": [
    "cmi_val = CustomMeanIoU(2)"
   ]
  },
  {
   "cell_type": "code",
   "execution_count": 14,
   "id": "ab33bd83",
   "metadata": {},
   "outputs": [],
   "source": [
    "for im, labs in new_val_data.take(val_steps):\n",
    "    \n",
    "    n_im = tf.image.resize(im, [256, 256], antialias = True)\n",
    "    #n_labs = tf.image.resize(labs, [256, 256], method = 'nearest')\n",
    "    \n",
    "    preds = model.predict(n_im)\n",
    "    \n",
    "    preds = tf.image.resize(preds, [1024, 1024], method = 'nearest')\n",
    "    \n",
    "    cmi_val.update_state(labs, preds)"
   ]
  },
  {
   "cell_type": "code",
   "execution_count": 15,
   "id": "3d5d79b8",
   "metadata": {},
   "outputs": [
    {
     "data": {
      "text/plain": [
       "0.7532597"
      ]
     },
     "execution_count": 15,
     "metadata": {},
     "output_type": "execute_result"
    }
   ],
   "source": [
    "cmi_val.result().numpy()"
   ]
  },
  {
   "cell_type": "code",
   "execution_count": 16,
   "id": "5629536c",
   "metadata": {},
   "outputs": [],
   "source": [
    "cmi_test = CustomMeanIoU(2)"
   ]
  },
  {
   "cell_type": "code",
   "execution_count": 17,
   "id": "b6d0885c",
   "metadata": {},
   "outputs": [],
   "source": [
    "for im, labs in new_test_data.take(50//batch_size):\n",
    "    \n",
    "    n_im = tf.image.resize(im, [256, 256], antialias = True)\n",
    "    #n_labs = tf.image.resize(labs, [256, 256], method = 'nearest')\n",
    "    \n",
    "    preds = model.predict(n_im)\n",
    "    \n",
    "    preds = tf.image.resize(preds, [1024, 1024], method = 'nearest')\n",
    "    \n",
    "    cmi_test.update_state(labs, preds)"
   ]
  },
  {
   "cell_type": "code",
   "execution_count": 18,
   "id": "4737f684",
   "metadata": {},
   "outputs": [
    {
     "data": {
      "text/plain": [
       "0.75073683"
      ]
     },
     "execution_count": 18,
     "metadata": {},
     "output_type": "execute_result"
    }
   ],
   "source": [
    "cmi_test.result().numpy()"
   ]
  },
  {
   "cell_type": "code",
   "execution_count": null,
   "id": "c61bd1c4",
   "metadata": {},
   "outputs": [],
   "source": []
  }
 ],
 "metadata": {
  "kernelspec": {
   "display_name": "Python 3 (ipykernel)",
   "language": "python",
   "name": "python3"
  },
  "language_info": {
   "codemirror_mode": {
    "name": "ipython",
    "version": 3
   },
   "file_extension": ".py",
   "mimetype": "text/x-python",
   "name": "python",
   "nbconvert_exporter": "python",
   "pygments_lexer": "ipython3",
   "version": "3.9.7"
  }
 },
 "nbformat": 4,
 "nbformat_minor": 5
}
